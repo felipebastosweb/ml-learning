{
 "cells": [
  {
   "cell_type": "markdown",
   "metadata": {},
   "source": [
    "# Machine Learning - Fazer Histórico\n",
    "Baseado no histórico dos alunos definir se deve fazer o histórico de um aluno"
   ]
  },
  {
   "cell_type": "markdown",
   "metadata": {},
   "source": [
    "## Organizar os dados\n",
    "O histórico dos alunos precisam ser reorganizados em um ou mais arquivos para "
   ]
  },
  {
   "cell_type": "markdown",
   "metadata": {},
   "source": [
    "### Organizar Turmas"
   ]
  },
  {
   "cell_type": "code",
   "execution_count": 1,
   "metadata": {},
   "outputs": [],
   "source": [
    "series = [\n",
    "    ['GRUPO 1'], # 0\n",
    "    ['GRUPO 2'], # 1\n",
    "    ['GRUPO 3'], # 2\n",
    "    ['GRUPO 4'], # 3\n",
    "    ['GRUPO 5'], # 4\n",
    "    ['1o ANO'], # 5\n",
    "    ['2o ANO'], # 6 (OU 1a série)\n",
    "    ['3o ANO'], # 7 (OU 2a série)\n",
    "    ['4o ANO'], # 8 (OU 3a série)\n",
    "    ['5o ANO'], # 9 (OU 4a série)\n",
    "    ['6o ANO'], # 10 (OU 5a série)\n",
    "    ['7o ANO'], # 11 (OU 6a série)\n",
    "    ['8o ANO'], # 12 (OU 7a série)\n",
    "    ['9o ANO'], # 13 (OU 8a série)\n",
    "    ['SE LIGA'], # 14\n",
    "    ['ACELERA'], # 15\n",
    "    ['TAP III'], # 16\n",
    "    ['TAP IV'], # 17\n",
    "    ['TAP V'], # 18\n",
    "]"
   ]
  },
  {
   "cell_type": "markdown",
   "metadata": {},
   "source": [
    "### Organizar Status"
   ]
  },
  {
   "cell_type": "markdown",
   "metadata": {},
   "source": [
    "# status = [\n",
    "    ['EVADIDO'], # 0\n",
    "    ['TRANSFERIDO'], # 1\n",
    "    ['CONSERVADO'], # 2\n",
    "    ['APROVADO'], # 3\n",
    "    ['EXCLUIDO']\n",
    "]"
   ]
  },
  {
   "cell_type": "markdown",
   "metadata": {},
   "source": [
    "### Organizar Ações"
   ]
  },
  {
   "cell_type": "code",
   "execution_count": 39,
   "metadata": {},
   "outputs": [
    {
     "data": {
      "text/plain": [
       "\"\\nacoes = [\\n    ['NADA'], # 0\\n    ['FICHA DO ALUNO'], # 1\\n    ['HISTÓRICO'], # 2\\n]\\n\""
      ]
     },
     "execution_count": 39,
     "metadata": {},
     "output_type": "execute_result"
    }
   ],
   "source": [
    "\"\"\"\n",
    "acoes = [\n",
    "    ['NADA'], # 0\n",
    "    ['FICHA DO ALUNO'], # 1\n",
    "    ['HISTÓRICO'], # 2\n",
    "]\n",
    "\"\"\""
   ]
  },
  {
   "cell_type": "code",
   "execution_count": 35,
   "metadata": {},
   "outputs": [
    {
     "name": "stdout",
     "output_type": "stream",
     "text": [
      "<class 'pandas.core.frame.DataFrame'>\n",
      "RangeIndex: 92 entries, 0 to 91\n",
      "Data columns (total 4 columns):\n",
      "ALUNO     92 non-null int64\n",
      "SERIE     92 non-null int64\n",
      "ANO       92 non-null int64\n",
      "STATUS    92 non-null int64\n",
      "dtypes: int64(4)\n",
      "memory usage: 3.0 KB\n"
     ]
    }
   ],
   "source": [
    "import pandas as pd\n",
    "# TODO: abrir arquivos de históricos\n",
    "\n",
    "# TODO: montar arquivos cvs com históricos organizados por ano\n",
    "\n",
    "# Abrir arquivo com históricos organizados\n",
    "historicos = pd.read_csv('historicos.csv', sep = ';', encoding = 'utf-8')"
   ]
  },
  {
   "cell_type": "code",
   "execution_count": 36,
   "metadata": {},
   "outputs": [
    {
     "data": {
      "text/html": [
       "<div>\n",
       "<style scoped>\n",
       "    .dataframe tbody tr th:only-of-type {\n",
       "        vertical-align: middle;\n",
       "    }\n",
       "\n",
       "    .dataframe tbody tr th {\n",
       "        vertical-align: top;\n",
       "    }\n",
       "\n",
       "    .dataframe thead th {\n",
       "        text-align: right;\n",
       "    }\n",
       "</style>\n",
       "<table border=\"1\" class=\"dataframe\">\n",
       "  <thead>\n",
       "    <tr style=\"text-align: right;\">\n",
       "      <th></th>\n",
       "      <th>ALUNO</th>\n",
       "      <th>SERIE</th>\n",
       "      <th>ANO</th>\n",
       "      <th>STATUS</th>\n",
       "    </tr>\n",
       "  </thead>\n",
       "  <tbody>\n",
       "    <tr>\n",
       "      <th>0</th>\n",
       "      <td>1</td>\n",
       "      <td>5</td>\n",
       "      <td>1999</td>\n",
       "      <td>3</td>\n",
       "    </tr>\n",
       "    <tr>\n",
       "      <th>1</th>\n",
       "      <td>2</td>\n",
       "      <td>5</td>\n",
       "      <td>1999</td>\n",
       "      <td>3</td>\n",
       "    </tr>\n",
       "    <tr>\n",
       "      <th>2</th>\n",
       "      <td>3</td>\n",
       "      <td>5</td>\n",
       "      <td>1999</td>\n",
       "      <td>3</td>\n",
       "    </tr>\n",
       "    <tr>\n",
       "      <th>3</th>\n",
       "      <td>4</td>\n",
       "      <td>5</td>\n",
       "      <td>1999</td>\n",
       "      <td>3</td>\n",
       "    </tr>\n",
       "    <tr>\n",
       "      <th>4</th>\n",
       "      <td>5</td>\n",
       "      <td>5</td>\n",
       "      <td>1999</td>\n",
       "      <td>3</td>\n",
       "    </tr>\n",
       "  </tbody>\n",
       "</table>\n",
       "</div>"
      ],
      "text/plain": [
       "   ALUNO  SERIE   ANO  STATUS\n",
       "0      1      5  1999       3\n",
       "1      2      5  1999       3\n",
       "2      3      5  1999       3\n",
       "3      4      5  1999       3\n",
       "4      5      5  1999       3"
      ]
     },
     "execution_count": 36,
     "metadata": {},
     "output_type": "execute_result"
    }
   ],
   "source": [
    "historicos.head()"
   ]
  },
  {
   "cell_type": "code",
   "execution_count": 37,
   "metadata": {},
   "outputs": [
    {
     "name": "stdout",
     "output_type": "stream",
     "text": [
      "<class 'pandas.core.frame.DataFrame'>\n",
      "RangeIndex: 92 entries, 0 to 91\n",
      "Data columns (total 4 columns):\n",
      "ALUNO     92 non-null int64\n",
      "SERIE     92 non-null int64\n",
      "ANO       92 non-null int64\n",
      "STATUS    92 non-null int64\n",
      "dtypes: int64(4)\n",
      "memory usage: 3.0 KB\n"
     ]
    }
   ],
   "source": [
    "historicos.info()"
   ]
  },
  {
   "cell_type": "markdown",
   "metadata": {},
   "source": [
    "## Início do Machine Learning\n",
    "Neste ponto começarei a criar o modelo até que ele consiga prever o que deve ser feito baseado no aprendizado do robô"
   ]
  },
  {
   "cell_type": "code",
   "execution_count": 30,
   "metadata": {},
   "outputs": [
    {
     "data": {
      "text/plain": [
       "LinearRegression(copy_X=True, fit_intercept=True, n_jobs=None,\n",
       "         normalize=False)"
      ]
     },
     "execution_count": 30,
     "metadata": {},
     "output_type": "execute_result"
    }
   ],
   "source": [
    "import pandas as pd\n",
    "from sklearn.linear_model import LinearRegression\n",
    "reg = LinearRegression()\n",
    "acoes = [\n",
    "    1, 1, 1, 1, 1, 1, 1, 1, 1, \\\n",
    "    1, 1, 1, 2, 1, 1, 1, 0, 1, \\\n",
    "    1, 1, 1, 1, 1, 1, 1, 1, 1, \\\n",
    "    1, 2, 1, 1, 1, 1, 1, 1, 1, \\\n",
    "    1, 1, 1, 1, 1, 1, 1, 1, 1, \\\n",
    "    1, 1, 1, 1, 1, 1, 1, 1, 1, \\\n",
    "    1, 1, 1, 1, 1, 1, 1, 1, 1, \\\n",
    "    1, 1, 1, 1, 1, 1, 1, 1, 1, \\\n",
    "    2, 1, 2, 1, 1, 2, 2, 1, 2, \\\n",
    "    1, 1, 1, 1, 1, 1, 2, 1, 2, \\\n",
    "    2, 2\n",
    "]\n",
    "reg.fit(historicos, acoes)"
   ]
  },
  {
   "cell_type": "code",
   "execution_count": 31,
   "metadata": {},
   "outputs": [
    {
     "data": {
      "text/plain": [
       "array([-0.01152736,  0.02092858,  0.02021832,  0.03944199])"
      ]
     },
     "execution_count": 31,
     "metadata": {},
     "output_type": "execute_result"
    }
   ],
   "source": [
    "reg.coef_"
   ]
  },
  {
   "cell_type": "code",
   "execution_count": 40,
   "metadata": {},
   "outputs": [
    {
     "data": {
      "text/plain": [
       "-39.65493473475944"
      ]
     },
     "execution_count": 40,
     "metadata": {},
     "output_type": "execute_result"
    }
   ],
   "source": [
    "reg.intercept_"
   ]
  },
  {
   "cell_type": "code",
   "execution_count": 46,
   "metadata": {},
   "outputs": [
    {
     "data": {
      "text/plain": [
       "0.17672252677068823"
      ]
     },
     "execution_count": 46,
     "metadata": {},
     "output_type": "execute_result"
    }
   ],
   "source": [
    "import numpy as np\n",
    "reg.score(historicos, acoes)"
   ]
  },
  {
   "cell_type": "code",
   "execution_count": null,
   "metadata": {},
   "outputs": [],
   "source": [
    "reg.predict(np.array([[10, 5, 2019, 3]]))"
   ]
  },
  {
   "cell_type": "code",
   "execution_count": 45,
   "metadata": {},
   "outputs": [
    {
     "data": {
      "text/plain": [
       "array([1.44098085])"
      ]
     },
     "execution_count": 45,
     "metadata": {},
     "output_type": "execute_result"
    }
   ],
   "source": [
    "reg.predict(np.array([[10, 13, 2019, 3]]))"
   ]
  },
  {
   "cell_type": "code",
   "execution_count": null,
   "metadata": {},
   "outputs": [],
   "source": []
  }
 ],
 "metadata": {
  "kernelspec": {
   "display_name": "Python 3",
   "language": "python",
   "name": "python3"
  },
  "language_info": {
   "codemirror_mode": {
    "name": "ipython",
    "version": 3
   },
   "file_extension": ".py",
   "mimetype": "text/x-python",
   "name": "python",
   "nbconvert_exporter": "python",
   "pygments_lexer": "ipython3",
   "version": "3.6.8"
  }
 },
 "nbformat": 4,
 "nbformat_minor": 2
}
